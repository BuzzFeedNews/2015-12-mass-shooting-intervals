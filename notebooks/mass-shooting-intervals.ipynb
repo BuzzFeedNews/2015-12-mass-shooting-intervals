{
 "cells": [
  {
   "cell_type": "code",
   "execution_count": 1,
   "metadata": {
    "collapsed": true
   },
   "outputs": [],
   "source": [
    "import pandas as pd\n",
    "import datetime as dt\n",
    "from namestand import downscore\n",
    "import seaborn as sb\n",
    "%matplotlib inline"
   ]
  },
  {
   "cell_type": "code",
   "execution_count": 2,
   "metadata": {
    "collapsed": true
   },
   "outputs": [],
   "source": [
    "def load_shootings(path):\n",
    "    df = pd.read_csv(path)\n",
    "    df.columns = downscore(df.columns)\n",
    "    df = df.rename(columns={\"killed\": \"dead\", \"wounded\": \"injured\" })\n",
    "    df[\"date\"] = pd.to_datetime(df[\"date\"])\n",
    "    return df"
   ]
  },
  {
   "cell_type": "code",
   "execution_count": 3,
   "metadata": {
    "collapsed": false
   },
   "outputs": [],
   "source": [
    "paths = [\n",
    "    \"../data/2013MASTER.csv\",\n",
    "    \"../data/2014MASTER.csv\",\n",
    "    \"../data/2015CURRENT.csv\"\n",
    "]\n",
    "shootings = pd.concat([ load_shootings(path) for path in paths ])[[\n",
    "    \"date\", \"location\", \"dead\", \"injured\"\n",
    "]].reset_index(drop=True).sort_values(\"date\")"
   ]
  },
  {
   "cell_type": "code",
   "execution_count": 4,
   "metadata": {
    "collapsed": false
   },
   "outputs": [
    {
     "data": {
      "text/html": [
       "<div>\n",
       "<table border=\"1\" class=\"dataframe\">\n",
       "  <thead>\n",
       "    <tr style=\"text-align: right;\">\n",
       "      <th></th>\n",
       "      <th>date</th>\n",
       "      <th>location</th>\n",
       "      <th>dead</th>\n",
       "      <th>injured</th>\n",
       "    </tr>\n",
       "  </thead>\n",
       "  <tbody>\n",
       "    <tr>\n",
       "      <th>0</th>\n",
       "      <td>2013-01-01</td>\n",
       "      <td>Sacramento, CA</td>\n",
       "      <td>4</td>\n",
       "      <td>0</td>\n",
       "    </tr>\n",
       "    <tr>\n",
       "      <th>1</th>\n",
       "      <td>2013-01-01</td>\n",
       "      <td>Hawthorne, CA</td>\n",
       "      <td>1</td>\n",
       "      <td>3</td>\n",
       "    </tr>\n",
       "    <tr>\n",
       "      <th>2</th>\n",
       "      <td>2013-01-01</td>\n",
       "      <td>McKeesport, PA</td>\n",
       "      <td>0</td>\n",
       "      <td>4</td>\n",
       "    </tr>\n",
       "    <tr>\n",
       "      <th>3</th>\n",
       "      <td>2013-01-01</td>\n",
       "      <td>Lorain, OH</td>\n",
       "      <td>1</td>\n",
       "      <td>4</td>\n",
       "    </tr>\n",
       "    <tr>\n",
       "      <th>4</th>\n",
       "      <td>2013-01-05</td>\n",
       "      <td>Aurora, CO</td>\n",
       "      <td>4</td>\n",
       "      <td>0</td>\n",
       "    </tr>\n",
       "  </tbody>\n",
       "</table>\n",
       "</div>"
      ],
      "text/plain": [
       "        date        location  dead  injured\n",
       "0 2013-01-01  Sacramento, CA     4        0\n",
       "1 2013-01-01   Hawthorne, CA     1        3\n",
       "2 2013-01-01  McKeesport, PA     0        4\n",
       "3 2013-01-01      Lorain, OH     1        4\n",
       "4 2013-01-05      Aurora, CO     4        0"
      ]
     },
     "execution_count": 4,
     "metadata": {},
     "output_type": "execute_result"
    }
   ],
   "source": [
    "shootings.head()"
   ]
  },
  {
   "cell_type": "code",
   "execution_count": 5,
   "metadata": {
    "collapsed": false
   },
   "outputs": [
    {
     "data": {
      "text/html": [
       "<div>\n",
       "<table border=\"1\" class=\"dataframe\">\n",
       "  <thead>\n",
       "    <tr style=\"text-align: right;\">\n",
       "      <th></th>\n",
       "      <th>date</th>\n",
       "      <th>location</th>\n",
       "      <th>dead</th>\n",
       "      <th>injured</th>\n",
       "    </tr>\n",
       "  </thead>\n",
       "  <tbody>\n",
       "    <tr>\n",
       "      <th>1045</th>\n",
       "      <td>2015-11-23</td>\n",
       "      <td>Houston, TX</td>\n",
       "      <td>1</td>\n",
       "      <td>3</td>\n",
       "    </tr>\n",
       "    <tr>\n",
       "      <th>1046</th>\n",
       "      <td>2015-11-24</td>\n",
       "      <td>Conway, SC</td>\n",
       "      <td>0</td>\n",
       "      <td>4</td>\n",
       "    </tr>\n",
       "    <tr>\n",
       "      <th>1047</th>\n",
       "      <td>2015-11-26</td>\n",
       "      <td>Boston, MA</td>\n",
       "      <td>1</td>\n",
       "      <td>3</td>\n",
       "    </tr>\n",
       "    <tr>\n",
       "      <th>1048</th>\n",
       "      <td>2015-11-27</td>\n",
       "      <td>Sacramento, CA</td>\n",
       "      <td>2</td>\n",
       "      <td>2</td>\n",
       "    </tr>\n",
       "    <tr>\n",
       "      <th>1049</th>\n",
       "      <td>2015-11-27</td>\n",
       "      <td>Colorado Springs, CO</td>\n",
       "      <td>3</td>\n",
       "      <td>9</td>\n",
       "    </tr>\n",
       "  </tbody>\n",
       "</table>\n",
       "</div>"
      ],
      "text/plain": [
       "           date              location  dead  injured\n",
       "1045 2015-11-23           Houston, TX     1        3\n",
       "1046 2015-11-24            Conway, SC     0        4\n",
       "1047 2015-11-26            Boston, MA     1        3\n",
       "1048 2015-11-27        Sacramento, CA     2        2\n",
       "1049 2015-11-27  Colorado Springs, CO     3        9"
      ]
     },
     "execution_count": 5,
     "metadata": {},
     "output_type": "execute_result"
    }
   ],
   "source": [
    "shootings.tail()"
   ]
  },
  {
   "cell_type": "code",
   "execution_count": 6,
   "metadata": {
    "collapsed": false
   },
   "outputs": [
    {
     "name": "stdout",
     "output_type": "stream",
     "text": [
      "1064\n"
     ]
    }
   ],
   "source": [
    "total_days = (dt.date(2015, 12, 1) - dt.date(2013, 1, 1)).days\n",
    "print(total_days)"
   ]
  },
  {
   "cell_type": "code",
   "execution_count": 7,
   "metadata": {
    "collapsed": false
   },
   "outputs": [
    {
     "data": {
      "text/plain": [
       "1050"
      ]
     },
     "execution_count": 7,
     "metadata": {},
     "output_type": "execute_result"
    }
   ],
   "source": [
    "len(shootings)"
   ]
  },
  {
   "cell_type": "code",
   "execution_count": 8,
   "metadata": {
    "collapsed": false
   },
   "outputs": [
    {
     "data": {
      "image/png": "[encoded data removed]",
      "text/plain": [
       "<matplotlib.figure.Figure at 0x10cb3a3c8>"
      ]
     },
     "metadata": {},
     "output_type": "display_data"
    }
   ],
   "source": [
    "days_between_shootings = (shootings[\"date\"] - shootings[\"date\"].shift(1)).dropna().dt.days\n",
    "days_max = int(days_between_shootings.max())\n",
    "bins = list(range(0, days_max + 2, 1))\n",
    "ax = days_between_shootings.hist(\n",
    "    bins=bins,\n",
    "    align='left',\n",
    "    normed=True,\n",
    "    figsize=(10, 6),\n",
    "    color=\"black\",\n",
    "    width=0.9)\n",
    "ax.figure.set_facecolor(\"white\")\n",
    "ax.set_xlim(-0.5, days_max + 0.5)\n",
    "ax.set_xticks(bins[:-1])\n",
    "ax.set_yticklabels([ \"{0:.0f}%\".format(y * 100)\n",
    "    for y in ax.get_yticks() ])\n",
    "ax.set_title(\"Days Between Mass Shootings (4+ People Injured)\\nUnited States, Jan. 2013 – Nov. 2015\", \n",
    "    fontsize=16, fontweight=\"bold\")\n",
    "ax.set_xlabel(\"Days Since Last Mass Shooting\", fontsize=14, fontweight=\"bold\"),\n",
    "ax.set_ylabel(\"Percentage of Mass Shootings\\n\", fontsize=14)\n",
    "ax.figure.text(0.5, 0, \"Data: ShootingTracker.com / Chart: BuzzFeed News\", \n",
    "    ha=\"center\", color=\"#666666\")\n",
    "pass"
   ]
  },
  {
   "cell_type": "markdown",
   "metadata": {},
   "source": [
    "---\n",
    "\n",
    "---\n",
    "\n",
    "---"
   ]
  }
 ],
 "metadata": {
  "kernelspec": {
   "display_name": "Python 3",
   "language": "python",
   "name": "python3"
  },
  "language_info": {
   "codemirror_mode": {
    "name": "ipython",
    "version": 3
   },
   "file_extension": ".py",
   "mimetype": "text/x-python",
   "name": "python",
   "nbconvert_exporter": "python",
   "pygments_lexer": "ipython3",
   "version": "3.4.3"
  }
 },
 "nbformat": 4,
 "nbformat_minor": 0
}
